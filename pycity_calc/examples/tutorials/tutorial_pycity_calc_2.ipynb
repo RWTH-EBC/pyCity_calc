{
 "cells": [
  {
   "cell_type": "markdown",
   "metadata": {},
   "source": [
    "## PyCity_Calc tutorial (Part 2)\n",
    "\n",
    "Now we are going to learn how to generate a city object within pycity_calc. \n",
    "\n",
    "The city object of pycity_calc is an inheritance of the city district object of pycity (which is an inheritance of uesgraph, which is an inheritance of networkx.Graph). Long list of dependencies...however, can be pretty powerful. \n",
    "\n",
    "Again, we have to start to define an environment"
   ]
  },
  {
   "cell_type": "code",
   "execution_count": 1,
   "metadata": {
    "collapsed": false
   },
   "outputs": [
    {
     "name": "stdout",
     "output_type": "stream",
     "text": [
      "Kind of object:\n",
      "environment\n"
     ]
    }
   ],
   "source": [
    "import pycity_base.classes.Weather as Weather\n",
    "\n",
    "import pycity_calc.environments.co2emissions as co2\n",
    "import pycity_calc.environments.environment as env\n",
    "import pycity_calc.environments.market as mark\n",
    "import pycity_calc.environments.timer as time\n",
    "\n",
    "\n",
    "#  Input parameters\n",
    "year = 2010  # Reference year\n",
    "timestep = 3600  # Timestep in seconds\n",
    "location = (51.529086, 6.944689)  # (latitude, longitute) of location\n",
    "altitude = 55  # altitude of location in m\n",
    "\n",
    "#  Generate extended timer object\n",
    "timer = time.TimerExtended(timestep=timestep, year=year)\n",
    "\n",
    "#  Generate weather object\n",
    "weather = Weather.Weather(timer, useTRY=True, location=location,\n",
    "                          altitude=altitude)\n",
    "\n",
    "#  Generate market object\n",
    "market = mark.Market()\n",
    "#  Market is an inheritance of pycity prices object\n",
    "\n",
    "#  Generate co2 emissions object (new in pycity_calc)\n",
    "co2em = co2.Emissions(year=year)\n",
    "\n",
    "#  Generate environment\n",
    "environment = env.EnvironmentExtended(timer, weather, prices=market,\n",
    "                                      location=location, co2em=co2em)\n",
    "\n",
    "print('Kind of object:')\n",
    "print(environment._kind)"
   ]
  },
  {
   "cell_type": "markdown",
   "metadata": {},
   "source": [
    "Next, we are going to generate a city object (of pycity_calc)"
   ]
  },
  {
   "cell_type": "code",
   "execution_count": 2,
   "metadata": {
    "collapsed": false
   },
   "outputs": [
    {
     "name": "stdout",
     "output_type": "stream",
     "text": [
      "Kind of object:\n",
      "citydistrict\n"
     ]
    }
   ],
   "source": [
    "import pycity_calc.cities.city as city\n",
    "\n",
    "#  Generate city object\n",
    "city_object = city.City(environment=environment)\n",
    "\n",
    "print('Kind of object:')\n",
    "print(city_object._kind)\n",
    "#  city is an inheritance of city district. Thus, it holds the city district attribute _kind = 'citydistrict'"
   ]
  },
  {
   "cell_type": "markdown",
   "metadata": {},
   "source": [
    "Now we are going to generate three BuildingExtended objects for the city object (with single zones / one apartment per building!)"
   ]
  },
  {
   "cell_type": "code",
   "execution_count": 3,
   "metadata": {
    "collapsed": false
   },
   "outputs": [
    {
     "name": "stdout",
     "output_type": "stream",
     "text": [
      "Get number of buildings:\n",
      "3\n",
      "Get annual space heating demand of one building:\n",
      "13000.0\n"
     ]
    }
   ],
   "source": [
    "import sympy.geometry.point as point\n",
    "\n",
    "import pycity_base.classes.demand.SpaceHeating as SpaceHeating\n",
    "import pycity_base.classes.demand.ElectricalDemand as ElectricalDemand\n",
    "import pycity_base.classes.demand.Apartment as Apartment\n",
    "import pycity_calc.buildings.building as build_ex\n",
    "\n",
    "\n",
    "#  Iterate 3 times to generate 3 building objects\n",
    "for i in range(3):\n",
    "    #  Create space heating demand object (with standardized load profiles (method=1))\n",
    "    heat_demand = SpaceHeating.SpaceHeating(environment,\n",
    "                                            method=1,\n",
    "                                            profile_type='HEF',\n",
    "                                            livingArea=100,\n",
    "                                            specificDemand=130)\n",
    "\n",
    "    #  Create electrical demand object (with standardized load profile)\n",
    "    el_demand = ElectricalDemand.ElectricalDemand(environment, method=1,\n",
    "                                                  annualDemand=3000,\n",
    "                                                  profileType=\"H0\")\n",
    "\n",
    "    #  We can create occupancy profiles, dhw profiles etc., but we are going to skip it, here.\n",
    "    \n",
    "    #  Create apartment\n",
    "    apartment = Apartment.Apartment(environment)\n",
    "\n",
    "    #  Add demands to apartment\n",
    "    apartment.addMultipleEntities([heat_demand, el_demand])\n",
    "\n",
    "    #  Create extended building object\n",
    "    extended_building = build_ex.BuildingExtended(environment,\n",
    "                                                  build_year=1962,\n",
    "                                                  mod_year=2003,\n",
    "                                                  build_type=0)\n",
    "\n",
    "    #  Add apartment to extended building\n",
    "    extended_building.addEntity(entity=apartment)\n",
    "\n",
    "    #  Generate positions (sympy Point object)\n",
    "    position = point.Point(i*10, 0)\n",
    "    \n",
    "    #  Add extended buildings to city object\n",
    "    city_object.add_extended_building(extended_building=extended_building,\n",
    "                                      position=position)\n",
    "\n",
    "print('Get number of buildings:')\n",
    "print(city_object.get_nb_of_building_entities())\n",
    "\n",
    "print('Get annual space heating demand of one building:')\n",
    "print(extended_building.get_annual_space_heat_demand())"
   ]
  },
  {
   "cell_type": "markdown",
   "metadata": {},
   "source": [
    "City holds further methods:"
   ]
  },
  {
   "cell_type": "code",
   "execution_count": 4,
   "metadata": {
    "collapsed": false
   },
   "outputs": [
    {
     "name": "stdout",
     "output_type": "stream",
     "text": [
      "\n",
      "Get list of node ids with building objects:\n",
      "[1001, 1002, 1003]\n",
      "\n",
      "Get power curves of all buildings\n",
      "(array([ 244.82052 ,  226.913643,  209.84616 , ...,  206.098767,\n",
      "        239.055471,  268.429914]), array([ 5304.87276967,  5443.26075496,  5581.64874026, ...,  6646.54219399,\n",
      "        4537.2514064 ,  3308.09634313]))\n",
      "\n",
      "Get total annual space heating demand of all buildings\n",
      "39000.0\n",
      "\n",
      "Get total annual electrical demand of all buildings\n",
      "9000.00000004\n",
      "\n",
      "Node ids of original city district\n",
      "[1001, 1002, 1003]\n",
      "\n",
      "With data:\n",
      "[(1001, {'entity': <pycity_calc.buildings.building.BuildingExtended object at 0x000000000A99DBA8>, 'name': 1001, 'is_supply_cooling': False, 'is_supply_heating': False, 'is_supply_electricity': False, 'is_supply_gas': False, 'position': Point(0, 0), 'node_type': 'building', 'is_supply_other': False}), (1002, {'entity': <pycity_calc.buildings.building.BuildingExtended object at 0x000000000A99BB38>, 'name': 1002, 'is_supply_cooling': False, 'is_supply_heating': False, 'is_supply_electricity': False, 'is_supply_gas': False, 'position': Point(10, 0), 'node_type': 'building', 'is_supply_other': False}), (1003, {'entity': <pycity_calc.buildings.building.BuildingExtended object at 0x000000000C015B38>, 'name': 1003, 'is_supply_cooling': False, 'is_supply_heating': False, 'is_supply_electricity': False, 'is_supply_gas': False, 'position': Point(20, 0), 'node_type': 'building', 'is_supply_other': False})]\n"
     ]
    }
   ],
   "source": [
    "print('\\nGet list of node ids with building objects:')\n",
    "print(city_object.get_list_build_entity_node_ids())\n",
    "\n",
    "print('\\nGet power curves of all buildings')\n",
    "print(city_object.get_power_curves())\n",
    "\n",
    "print('\\nGet total annual space heating demand of all buildings')\n",
    "print(city_object.get_annual_space_heating_demand())\n",
    "\n",
    "print('\\nGet total annual electrical demand of all buildings')\n",
    "print(city_object.get_annual_el_demand())\n",
    "\n",
    "print('\\nNode ids of original city district')\n",
    "print(city_object.nodes(data=False))\n",
    "print('\\nWith data:')\n",
    "print(city_object.nodes(data=True))"
   ]
  },
  {
   "cell_type": "markdown",
   "metadata": {},
   "source": [
    "Now we are going to add streets to our city object:"
   ]
  },
  {
   "cell_type": "code",
   "execution_count": 5,
   "metadata": {
    "collapsed": false
   },
   "outputs": [
    {
     "name": "stdout",
     "output_type": "stream",
     "text": [
      "Nodelist street:\n",
      "[1004, 1005, 1006]\n"
     ]
    }
   ],
   "source": [
    "#  Add street network\n",
    "\n",
    "#  Add str nodes\n",
    "node_1 = city_object.add_street_node(position=point.Point(0, -1))\n",
    "node_2 = city_object.add_street_node(position=point.Point(10, -1))\n",
    "node_3 = city_object.add_street_node(position=point.Point(20, -1))\n",
    "\n",
    "#  Add edges\n",
    "city_object.add_edge(node_1, node_2, network_type='street')\n",
    "city_object.add_edge(node_2, node_3, network_type='street')\n",
    "\n",
    "print('Nodelist street:')\n",
    "print(city_object.nodelist_street)"
   ]
  },
  {
   "cell_type": "markdown",
   "metadata": {},
   "source": [
    "pycity_calc hold plotting methods. We are going to plot our existing city now:"
   ]
  },
  {
   "cell_type": "code",
   "execution_count": 8,
   "metadata": {
    "collapsed": false
   },
   "outputs": [
    {
     "data": {
      "image/png": "[encoded data removed]",
      "text/plain": [
       "<matplotlib.figure.Figure at 0xc295b00>"
      ]
     },
     "metadata": {},
     "output_type": "display_data"
    }
   ],
   "source": [
    "%matplotlib inline\n",
    "\n",
    "import pycity_calc.visualization.city_visual as citvis\n",
    "\n",
    "#  Plot city object\n",
    "citvis.plot_city_district(city=city_object, offset=-0.2)"
   ]
  },
  {
   "cell_type": "markdown",
   "metadata": {
    "collapsed": true
   },
   "source": [
    "It is possible to generate a city district with txt/csv input table. Please take a look at pycity_calc/cities/scripts/...\n",
    "Here you will find a city_generator (to generate city with buildings, only), a street_generator and a complex_city_generator (city with buildings and street network).\n",
    "\n",
    "You should take a look at further examples within pycity_calc/examples folder to get more information. PyCity_Calc also holds a couple of toolbox-scripts for:\n",
    "* City analysis\n",
    "* Building clustering\n",
    "* Energy system dimensioning\n",
    "* Network operations\n",
    "* Interface to TEASER\n",
    "\n",
    "Energysystems, electrical grid (pypower) and simulations scripts are currently under development (06.04.2016). Going to be added, soon..."
   ]
  }
 ],
 "metadata": {
  "kernelspec": {
   "display_name": "Python 3",
   "language": "python",
   "name": "python3"
  },
  "language_info": {
   "codemirror_mode": {
    "name": "ipython",
    "version": 3
   },
   "file_extension": ".py",
   "mimetype": "text/x-python",
   "name": "python",
   "nbconvert_exporter": "python",
   "pygments_lexer": "ipython3",
   "version": "3.4.4"
  }
 },
 "nbformat": 4,
 "nbformat_minor": 0
}
