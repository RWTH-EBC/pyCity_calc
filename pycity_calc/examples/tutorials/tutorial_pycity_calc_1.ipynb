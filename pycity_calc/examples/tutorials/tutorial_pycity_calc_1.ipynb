{
 "cells": [
  {
   "cell_type": "markdown",
   "metadata": {},
   "source": [
    "## PyCity_Calc tutorial\n",
    "\n",
    "This is a tutorial on how to use pycity_calc. \n",
    "\n",
    "PyCity_Calc is an addon for pycity. It extends pycity with calculation methods for energy balances and economic calculation, primarily on an annual basis. \n",
    "\n",
    "Pycity_Calc depends on uesgraphs and pycity package.\n",
    "\n",
    "First, you should download and install uesgraph. \n",
    "https://github.com/RWTH-EBC/uesgraphs\n",
    "\n",
    "Local installation is possible via pip:\n",
    "\n",
    "`pip install -e 'your_path_to_uesgraphs_setup'`\n",
    "\n",
    "Second, you should install pycity via pip:\n",
    "https://github.com/RWTH-EBC/pyCity\n",
    "\n",
    "`pip install -e 'your_path_to_pycity_setup'`\n",
    "\n",
    "Now you should fulfill all requirements to work with pycity_calc.\n",
    "\n",
    "Next, you should install pycity_calc:\n",
    "https://egitlab.eonerc.rwth-aachen.de/jsc/pycity_calculator.git\n",
    "\n",
    "`pip install -e 'your_path_to_pycity_calc_setup'`"
   ]
  },
  {
   "cell_type": "markdown",
   "metadata": {},
   "source": [
    "### Part 1: pycity_calc environment\n",
    "\n",
    "Equivalent to pycity, every object points to an environment class. Pycity_calc holds an own environment class, which is an extension of the environment class of pycity. It still holds the original weather object of pycity. However, timer and prices have been extended. Furthermore, an co2emissions about has been added.\n",
    "\n",
    "Now we will generate an extended environment:"
   ]
  },
  {
   "cell_type": "code",
   "execution_count": 1,
   "metadata": {
    "collapsed": false
   },
   "outputs": [
    {
     "name": "stdout",
     "output_type": "stream",
     "text": [
      "Timestep of timer:\n",
      "3600\n",
      "Number of timesteps:\n",
      "8760\n",
      "Final timestep in hours:\n",
      "8760\n",
      "Reference year:\n",
      "2010\n"
     ]
    }
   ],
   "source": [
    "import pycity_base.classes.Weather as Weather\n",
    "\n",
    "import pycity_calc.environments.co2emissions as co2\n",
    "import pycity_calc.environments.environment as env\n",
    "import pycity_calc.environments.market as mark\n",
    "import pycity_calc.environments.timer as time\n",
    "\n",
    "\n",
    "#  Input parameters\n",
    "year = 2010  # Reference year\n",
    "timestep = 3600  # Timestep in seconds\n",
    "location = (51.529086, 6.944689)  # (latitude, longitute) of location\n",
    "altitude = 55  # altitude of location in m\n",
    "\n",
    "#  Generate extended timer object\n",
    "timer = time.TimerExtended(timestep=timestep, year=year)\n",
    "\n",
    "print('Timestep of timer:')\n",
    "print(timer.timeDiscretization)\n",
    "print('Number of timesteps:')\n",
    "print(int(timer.timestepsHorizon))\n",
    "print('Final timestep in hours:')\n",
    "print(int(timer.timestepsHorizon * timer.timeDiscretization / 3600))\n",
    "print('Reference year:')\n",
    "print(timer.year)"
   ]
  },
  {
   "cell_type": "markdown",
   "metadata": {},
   "source": [
    "Important: In comparison to the timer object of pycity, timestepsHorizon and timestepsUsedHorizon are set equal to total number of timesteps. TimeDiscretization and timestepsTotal always lead to a full year analysis. Thus, TimerExtended is not suitable for methods, like rolling horizon. Its made for energy and economic analysis with annual scope.\n",
    "\n",
    "Now we are going to generate a weather object (same as in pycity)"
   ]
  },
  {
   "cell_type": "code",
   "execution_count": 2,
   "metadata": {
    "collapsed": false
   },
   "outputs": [
    {
     "name": "stdout",
     "output_type": "stream",
     "text": [
      "Weather object  <pycity_base.classes.Weather.Weather object at 0x0000000004B13F98>\n"
     ]
    }
   ],
   "source": [
    "#  Generate weather object\n",
    "weather = Weather.Weather(timer, useTRY=True, location=location,\n",
    "                          altitude=altitude)\n",
    "\n",
    "print('Weather object ', weather)"
   ]
  },
  {
   "cell_type": "markdown",
   "metadata": {},
   "source": [
    "Next, we are going to generate pycity_calc market, co2emissions and environment object"
   ]
  },
  {
   "cell_type": "code",
   "execution_count": 3,
   "metadata": {
    "collapsed": false
   },
   "outputs": [
    {
     "name": "stdout",
     "output_type": "stream",
     "text": [
      "Time discretization in seconds:\n",
      "3600\n",
      "\n",
      "Show outdoor tempreature forecast:\n",
      "[ 2.1  1.   0.1  0.   0.   0.2  0.1  0.1  0.   0.2]\n"
     ]
    }
   ],
   "source": [
    "#  Generate market object\n",
    "market = mark.Market()\n",
    "#  Market is an inheritance of pycity prices object\n",
    "\n",
    "#  Generate co2 emissions object (new in pycity_calc)\n",
    "co2em = co2.Emissions(year=year)\n",
    "\n",
    "#  Generate environment\n",
    "environment = env.EnvironmentExtended(timer, weather, prices=market,\n",
    "                                      location=location, co2em=co2em)\n",
    "\n",
    "#  Show current timestep\n",
    "print('Time discretization in seconds:')\n",
    "print(environment.timer.timeDiscretization)\n",
    "\n",
    "#  Show weather forecast for outdoor temperature (only extract the first 10 timestep values)\n",
    "print('\\nShow outdoor tempreature forecast:')\n",
    "print(environment.weather.getWeatherForecast(getTAmbient=True)[0][:10])"
   ]
  },
  {
   "cell_type": "markdown",
   "metadata": {},
   "source": [
    "### Part 2: BuildingExtended\n",
    "\n",
    "pycity_calc holds its own building class, called BuildingExtended. It is an inheritance of the building class of pycity. \n",
    "It holds further attributes (such as nb_of_floors etc., mainly required for TEASER usage) and methods (mainly for returning annual demand values).\n",
    "\n",
    "The procedure to generate a building is the same as within pycity. However, instead of using a Building object, a BuildingExtended object is used. \n",
    "\n",
    "First, we going to generate loads of pycity:"
   ]
  },
  {
   "cell_type": "code",
   "execution_count": 4,
   "metadata": {
    "collapsed": false
   },
   "outputs": [
    {
     "name": "stdout",
     "output_type": "stream",
     "text": [
      "Space heating power curve in Watt:\n",
      "[ 2040.33568064  2093.56182883  2146.78797702 ...,  2556.3623823\n",
      "  1745.09669477  1272.34474736]\n"
     ]
    },
    {
     "data": {
      "image/png": "[encoded data removed]",
      "text/plain": [
       "<matplotlib.figure.Figure at 0x4b3c3c8>"
      ]
     },
     "metadata": {},
     "output_type": "display_data"
    }
   ],
   "source": [
    "%matplotlib inline\n",
    "\n",
    "import numpy as np\n",
    "import matplotlib.pyplot as plt\n",
    "\n",
    "import pycity_base.classes.demand.DomesticHotWater as DomesticHotWater\n",
    "import pycity_base.classes.demand.ElectricalDemand as ElectricalDemand\n",
    "import pycity_base.classes.demand.SpaceHeating as SpaceHeating\n",
    "\n",
    "#  Generate space heating load object\n",
    "space_heating = SpaceHeating.SpaceHeating(environment, method=1,\n",
    "                                          livingArea=150,\n",
    "                                          specificDemand=100)\n",
    "#  Method 1 --> Use standardized load profile (SLP)\n",
    "#  Annual demand is calculated product of livingArea and specificDemand\n",
    "\n",
    "#  Show space heating power curve in Watt\n",
    "print('Space heating power curve in Watt:')\n",
    "print(space_heating.get_power(currentValues=False))\n",
    "#  currentValues = False --> Show values for all timesteps\n",
    "#  (not only for forecast horizon)\n",
    "\n",
    "#  Plot curve\n",
    "plt.plot(space_heating.get_power(currentValues=False))\n",
    "plt.xlabel('Time in hours')\n",
    "plt.ylabel('Thermal power in Watt (space heating)')\n",
    "plt.title('Space heating power curve')\n",
    "plt.show()"
   ]
  },
  {
   "cell_type": "code",
   "execution_count": 5,
   "metadata": {
    "collapsed": false
   },
   "outputs": [
    {
     "name": "stdout",
     "output_type": "stream",
     "text": [
      "Electrical load in W:\n",
      "[  81.60684    75.637881   69.94872  ...,  101.391264   95.160516\n",
      "   88.835364]\n"
     ]
    }
   ],
   "source": [
    "#  Generate electrical load object\n",
    "el_demand = ElectricalDemand.ElectricalDemand(environment,\n",
    "                                              method=1,\n",
    "                                              annualDemand=3000)\n",
    "#  Method 1 --> Use standardized load profile (SLP)\n",
    "\n",
    "print('Electrical load in W:')\n",
    "print(el_demand.get_power(currentValues=False))"
   ]
  },
  {
   "cell_type": "code",
   "execution_count": 6,
   "metadata": {
    "collapsed": false
   },
   "outputs": [
    {
     "name": "stdout",
     "output_type": "stream",
     "text": [
      "Hot water power load in W:\n",
      "[   0.            0.            0.         ...,  659.97555556    0.            0.        ]\n"
     ]
    }
   ],
   "source": [
    "#  Generate domestic hot water object via Annex 42 data\n",
    "dhw_annex42 = DomesticHotWater.DomesticHotWater(environment,\n",
    "                                                tFlow=60,\n",
    "                                                thermal=True,\n",
    "                                                method=1,\n",
    "                                                dailyConsumption=70,\n",
    "                                                supplyTemperature=25)\n",
    "#  Method 1 --> Use Annex 42 data\n",
    "\n",
    "print('Hot water power load in W:')\n",
    "print(dhw_annex42.get_power(currentValues=False, returnTemperature=False))"
   ]
  },
  {
   "cell_type": "markdown",
   "metadata": {},
   "source": [
    "Next, we are going to generate an pycity apartment and add the load objects"
   ]
  },
  {
   "cell_type": "code",
   "execution_count": 7,
   "metadata": {
    "collapsed": true
   },
   "outputs": [],
   "source": [
    "import pycity_base.classes.demand.Apartment as Apartment\n",
    "\n",
    "#  Initialize apartment object\n",
    "apartment = Apartment.Apartment(environment)\n",
    "\n",
    "#  Add single entity to apartment\n",
    "apartment.addEntity(space_heating)\n",
    "\n",
    "#  Add multiple entities to apartment\n",
    "apartment.addMultipleEntities([el_demand, dhw_annex42])"
   ]
  },
  {
   "cell_type": "markdown",
   "metadata": {},
   "source": [
    "Besides load profiles, occupancy profiles can be added to the apartment\n",
    "\n",
    "Now we are going to generate a BuildingExtended object"
   ]
  },
  {
   "cell_type": "code",
   "execution_count": 11,
   "metadata": {
    "collapsed": false
   },
   "outputs": [
    {
     "name": "stdout",
     "output_type": "stream",
     "text": [
      "Building type number:  0\n",
      "\n",
      "Get building space heating power curve:\n",
      "[ 2040.33568064  2093.56182883  2146.78797702 ...,  2556.3623823\n",
      "  1745.09669477  1272.34474736]\n",
      "\n",
      "Get building electrical power curve:\n",
      "[  81.60684    75.637881   69.94872  ...,  101.391264   95.160516\n",
      "   88.835364]\n",
      "\n",
      "Get building hot water power curve:\n",
      "[   0.            0.            0.         ...,  659.97555556    0.            0.        ]\n"
     ]
    }
   ],
   "source": [
    "import pycity_calc.buildings.building as build_ex\n",
    "\n",
    "#  Create extended building object\n",
    "extended_building = build_ex.BuildingExtended(environment, build_year=1962,\n",
    "                                             mod_year=2003, build_type=0)\n",
    "#  BuildingExtended holds further, optional input parameters,\n",
    "#  such as ground_area, nb_of_floors etc.\n",
    "\n",
    "#  Add apartment to extended building\n",
    "extended_building.addEntity(entity=apartment)\n",
    "\n",
    "#  Return building type integer number\n",
    "print('Building type number: ', extended_building.build_type)\n",
    "\n",
    "#  Return space heating power curve\n",
    "print('\\nGet building space heating power curve:')\n",
    "print(extended_building.get_space_heating_power_curve())\n",
    "\n",
    "#  Return electrical power curve\n",
    "print('\\nGet building electrical power curve:')\n",
    "print(extended_building.get_electric_power_curve())\n",
    "\n",
    "#  Return domestic hot water power curve\n",
    "print('\\nGet building hot water power curve:')\n",
    "print(extended_building.get_dhw_power_curve())"
   ]
  },
  {
   "cell_type": "markdown",
   "metadata": {},
   "source": [
    "BuildingExtended holds further methods, e.g. for returning annual demand values:"
   ]
  },
  {
   "cell_type": "code",
   "execution_count": 15,
   "metadata": {
    "collapsed": false
   },
   "outputs": [
    {
     "name": "stdout",
     "output_type": "stream",
     "text": [
      "\n",
      "Get annual space heating energy demand:\n",
      "15000.0\n",
      "\n",
      "Get annual electrical energy demand:\n",
      "3000.0\n",
      "\n",
      "Get annual hot water energy demand:\n",
      "1134.0\n"
     ]
    }
   ],
   "source": [
    "ann_heat_demand = extended_building.get_annual_space_heat_demand()\n",
    "\n",
    "#  Return space heating power curve\n",
    "print('\\nGet annual space heating energy demand:')\n",
    "print(ann_heat_demand)\n",
    "\n",
    "ann_el_demand = extended_building.get_annual_el_demand()\n",
    "\n",
    "#  Return electrical power curve\n",
    "print('\\nGet annual electrical energy demand:')\n",
    "print(str(round(ann_el_demand, 0)))\n",
    "\n",
    "ann_dhw_demand = extended_building.get_annual_dhw_demand()\n",
    "      \n",
    "#  Return domestic hot water power curve\n",
    "print('\\nGet annual hot water energy demand:')\n",
    "print(str(round(ann_dhw_demand, 0)))"
   ]
  }
 ],
 "metadata": {
  "kernelspec": {
   "display_name": "Python 3",
   "language": "python",
   "name": "python3"
  },
  "language_info": {
   "codemirror_mode": {
    "name": "ipython",
    "version": 3.0
   },
   "file_extension": ".py",
   "mimetype": "text/x-python",
   "name": "python",
   "nbconvert_exporter": "python",
   "pygments_lexer": "ipython3",
   "version": "3.4.4"
  }
 },
 "nbformat": 4,
 "nbformat_minor": 0
}